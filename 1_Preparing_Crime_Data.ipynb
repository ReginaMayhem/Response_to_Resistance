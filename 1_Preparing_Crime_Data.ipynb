{
 "cells": [
  {
   "cell_type": "markdown",
   "metadata": {},
   "source": [
    "# Preparing Crime Data\n",
    "\n",
    "Final project for DS1001"
   ]
  },
  {
   "cell_type": "code",
   "execution_count": 1,
   "metadata": {},
   "outputs": [],
   "source": [
    "import pandas as pd\n",
    "import numpy as np"
   ]
  },
  {
   "cell_type": "markdown",
   "metadata": {},
   "source": [
    "## Read in the crime report data"
   ]
  },
  {
   "cell_type": "code",
   "execution_count": 2,
   "metadata": {},
   "outputs": [
    {
     "name": "stderr",
     "output_type": "stream",
     "text": [
      "/Users/brinaseidel/anaconda3/lib/python3.6/site-packages/IPython/core/interactiveshell.py:2785: DtypeWarning: Columns (16,20,21) have mixed types. Specify dtype option on import or set low_memory=False.\n",
      "  interactivity=interactivity, compiler=compiler, result=result)\n"
     ]
    }
   ],
   "source": [
    "crimes2004_2018 = pd.read_csv(\"https://data.austintexas.gov/api/views/fdj4-gpfu/rows.csv?accessType=DOWNLOAD\")\n"
   ]
  },
  {
   "cell_type": "markdown",
   "metadata": {},
   "source": [
    "Rename the columns - columns_largeset below is the simplification of the column i.e. replacing spaces with underscores"
   ]
  },
  {
   "cell_type": "code",
   "execution_count": 3,
   "metadata": {},
   "outputs": [
    {
     "name": "stdout",
     "output_type": "stream",
     "text": [
      "Index(['Incident Number', 'Highest Offense Description',\n",
      "       'Highest Offense Code', 'Family Violence', 'Occurred Date Time',\n",
      "       'Occurred Date', 'Occurred Time', 'Report Date Time', 'Report Date',\n",
      "       'Report Time', 'Location Type', 'Address', 'Zip Code',\n",
      "       'Council District', 'APD Sector', 'APD District', 'PRA', 'Census Tract',\n",
      "       'Clearance Status', 'Clearance Date', 'UCR Category',\n",
      "       'Category Description', 'X-coordinate', 'Y-coordinate', 'Latitude',\n",
      "       'Longitude', 'Location'],\n",
      "      dtype='object')\n",
      "['inc_number', 'high_off_desc', 'high_off_code', 'fam_viol', 'date_time', 'date', 'time', 'report_date_time', 'report_date', 'report_time', 'loc_type', 'address', 'zip_code', 'council_district', 'apd_sector', 'apd_district', 'pra', 'cen_tract', 'clr_status', 'clr_date', 'ucr', 'cat_desc', 'x_coord', 'y_coord', 'latitude', 'longtitude', 'location']\n"
     ]
    }
   ],
   "source": [
    "print(crimes2004_2018.columns)\n",
    "columns_largeset = ['inc_number', 'high_off_desc', 'high_off_code', 'fam_viol', 'date_time', 'date', 'time', 'report_date_time', 'report_date']\n",
    "columns2_largeset = ['report_time', 'loc_type', 'address', 'zip_code', 'council_district', 'apd_sector', 'apd_district', 'pra', 'cen_tract', 'clr_status', 'clr_date', 'ucr', 'cat_desc', 'x_coord', 'y_coord', 'latitude', 'longtitude', 'location']\n",
    "columns_largeset += columns2_largeset\n",
    "print(columns_largeset)\n",
    "crimes2004_2018.columns = columns_largeset"
   ]
  },
  {
   "cell_type": "markdown",
   "metadata": {},
   "source": [
    "We only have resistence data for 2009 to 2016, so we will keep only the corresponding years of crime data."
   ]
  },
  {
   "cell_type": "code",
   "execution_count": 7,
   "metadata": {},
   "outputs": [],
   "source": [
    "temp = list(crimes2004_2018['inc_number'].astype(str))\n",
    "temp = [l[0:4] for l  in temp]\n",
    "crimes2004_2018['year']= np.array(temp)\n",
    "crimes2009_2016 = crimes2004_2018.loc[crimes2004_2018['year'].isin(['2009','2010', '2011', '2012', '2013', '2014', '2015', '2016'])]"
   ]
  },
  {
   "cell_type": "code",
   "execution_count": 8,
   "metadata": {},
   "outputs": [
    {
     "name": "stdout",
     "output_type": "stream",
     "text": [
      "(1050639, 28)\n"
     ]
    },
    {
     "data": {
      "text/html": [
       "<div>\n",
       "<style scoped>\n",
       "    .dataframe tbody tr th:only-of-type {\n",
       "        vertical-align: middle;\n",
       "    }\n",
       "\n",
       "    .dataframe tbody tr th {\n",
       "        vertical-align: top;\n",
       "    }\n",
       "\n",
       "    .dataframe thead th {\n",
       "        text-align: right;\n",
       "    }\n",
       "</style>\n",
       "<table border=\"1\" class=\"dataframe\">\n",
       "  <thead>\n",
       "    <tr style=\"text-align: right;\">\n",
       "      <th></th>\n",
       "      <th>inc_number</th>\n",
       "      <th>high_off_desc</th>\n",
       "      <th>high_off_code</th>\n",
       "      <th>fam_viol</th>\n",
       "      <th>date_time</th>\n",
       "      <th>date</th>\n",
       "      <th>time</th>\n",
       "      <th>report_date_time</th>\n",
       "      <th>report_date</th>\n",
       "      <th>report_time</th>\n",
       "      <th>...</th>\n",
       "      <th>clr_status</th>\n",
       "      <th>clr_date</th>\n",
       "      <th>ucr</th>\n",
       "      <th>cat_desc</th>\n",
       "      <th>x_coord</th>\n",
       "      <th>y_coord</th>\n",
       "      <th>latitude</th>\n",
       "      <th>longtitude</th>\n",
       "      <th>location</th>\n",
       "      <th>year</th>\n",
       "    </tr>\n",
       "  </thead>\n",
       "  <tbody>\n",
       "    <tr>\n",
       "      <th>0</th>\n",
       "      <td>20145043640</td>\n",
       "      <td>VIOL OF PROTECTIVE ORDER</td>\n",
       "      <td>3009</td>\n",
       "      <td>N</td>\n",
       "      <td>10/01/2014 08:19:00 PM</td>\n",
       "      <td>10/01/2014</td>\n",
       "      <td>2019.0</td>\n",
       "      <td>10/01/2014 08:19:00 PM</td>\n",
       "      <td>10/01/2014</td>\n",
       "      <td>2019.0</td>\n",
       "      <td>...</td>\n",
       "      <td>N</td>\n",
       "      <td>10/15/2014</td>\n",
       "      <td>NaN</td>\n",
       "      <td>NaN</td>\n",
       "      <td>3130355.0</td>\n",
       "      <td>3130355.0</td>\n",
       "      <td>30.315506</td>\n",
       "      <td>-97.690678</td>\n",
       "      <td>(30.31550566, -97.69067834)</td>\n",
       "      <td>2014</td>\n",
       "    </tr>\n",
       "    <tr>\n",
       "      <th>1</th>\n",
       "      <td>20115047788</td>\n",
       "      <td>RUNAWAY CHILD</td>\n",
       "      <td>4100</td>\n",
       "      <td>N</td>\n",
       "      <td>10/11/2011 06:00:00 AM</td>\n",
       "      <td>10/11/2011</td>\n",
       "      <td>600.0</td>\n",
       "      <td>10/11/2011 10:49:00 AM</td>\n",
       "      <td>10/11/2011</td>\n",
       "      <td>1049.0</td>\n",
       "      <td>...</td>\n",
       "      <td>N</td>\n",
       "      <td>10/12/2011</td>\n",
       "      <td>NaN</td>\n",
       "      <td>NaN</td>\n",
       "      <td>3137779.0</td>\n",
       "      <td>3137779.0</td>\n",
       "      <td>30.319818</td>\n",
       "      <td>-97.667024</td>\n",
       "      <td>(30.31981803, -97.66702419)</td>\n",
       "      <td>2011</td>\n",
       "    </tr>\n",
       "    <tr>\n",
       "      <th>3</th>\n",
       "      <td>20112011254</td>\n",
       "      <td>VIOL CITY ORDINANCE - OTHER</td>\n",
       "      <td>3299</td>\n",
       "      <td>N</td>\n",
       "      <td>07/20/2011 05:05:00 PM</td>\n",
       "      <td>07/20/2011</td>\n",
       "      <td>1705.0</td>\n",
       "      <td>07/20/2011 05:05:00 PM</td>\n",
       "      <td>07/20/2011</td>\n",
       "      <td>1705.0</td>\n",
       "      <td>...</td>\n",
       "      <td>C</td>\n",
       "      <td>09/03/2011</td>\n",
       "      <td>NaN</td>\n",
       "      <td>NaN</td>\n",
       "      <td>3106719.0</td>\n",
       "      <td>3106719.0</td>\n",
       "      <td>30.266295</td>\n",
       "      <td>-97.766915</td>\n",
       "      <td>(30.26629453, -97.76691542)</td>\n",
       "      <td>2011</td>\n",
       "    </tr>\n",
       "    <tr>\n",
       "      <th>6</th>\n",
       "      <td>20145045267</td>\n",
       "      <td>BURGLARY OF VEHICLE</td>\n",
       "      <td>601</td>\n",
       "      <td>N</td>\n",
       "      <td>10/11/2014 05:00:00 PM</td>\n",
       "      <td>10/11/2014</td>\n",
       "      <td>1700.0</td>\n",
       "      <td>10/12/2014 04:13:00 AM</td>\n",
       "      <td>10/12/2014</td>\n",
       "      <td>413.0</td>\n",
       "      <td>...</td>\n",
       "      <td>N</td>\n",
       "      <td>11/04/2014</td>\n",
       "      <td>23F</td>\n",
       "      <td>Theft</td>\n",
       "      <td>3115529.0</td>\n",
       "      <td>3115529.0</td>\n",
       "      <td>30.268006</td>\n",
       "      <td>-97.738955</td>\n",
       "      <td>(30.26800598, -97.73895531)</td>\n",
       "      <td>2014</td>\n",
       "    </tr>\n",
       "    <tr>\n",
       "      <th>7</th>\n",
       "      <td>2013141039</td>\n",
       "      <td>AGG ROBBERY/DEADLY WEAPON</td>\n",
       "      <td>300</td>\n",
       "      <td>N</td>\n",
       "      <td>01/14/2013 03:16:00 PM</td>\n",
       "      <td>01/14/2013</td>\n",
       "      <td>1516.0</td>\n",
       "      <td>01/14/2013 03:16:00 PM</td>\n",
       "      <td>01/14/2013</td>\n",
       "      <td>1516.0</td>\n",
       "      <td>...</td>\n",
       "      <td>C</td>\n",
       "      <td>02/18/2013</td>\n",
       "      <td>120</td>\n",
       "      <td>Robbery</td>\n",
       "      <td>3125085.0</td>\n",
       "      <td>3125085.0</td>\n",
       "      <td>30.314675</td>\n",
       "      <td>-97.707407</td>\n",
       "      <td>(30.31467502, -97.70740742)</td>\n",
       "      <td>2013</td>\n",
       "    </tr>\n",
       "  </tbody>\n",
       "</table>\n",
       "<p>5 rows × 28 columns</p>\n",
       "</div>"
      ],
      "text/plain": [
       "    inc_number                high_off_desc  high_off_code fam_viol  \\\n",
       "0  20145043640     VIOL OF PROTECTIVE ORDER           3009        N   \n",
       "1  20115047788                RUNAWAY CHILD           4100        N   \n",
       "3  20112011254  VIOL CITY ORDINANCE - OTHER           3299        N   \n",
       "6  20145045267          BURGLARY OF VEHICLE            601        N   \n",
       "7   2013141039    AGG ROBBERY/DEADLY WEAPON            300        N   \n",
       "\n",
       "                date_time        date    time        report_date_time  \\\n",
       "0  10/01/2014 08:19:00 PM  10/01/2014  2019.0  10/01/2014 08:19:00 PM   \n",
       "1  10/11/2011 06:00:00 AM  10/11/2011   600.0  10/11/2011 10:49:00 AM   \n",
       "3  07/20/2011 05:05:00 PM  07/20/2011  1705.0  07/20/2011 05:05:00 PM   \n",
       "6  10/11/2014 05:00:00 PM  10/11/2014  1700.0  10/12/2014 04:13:00 AM   \n",
       "7  01/14/2013 03:16:00 PM  01/14/2013  1516.0  01/14/2013 03:16:00 PM   \n",
       "\n",
       "  report_date  report_time  ...  clr_status    clr_date  ucr  cat_desc  \\\n",
       "0  10/01/2014       2019.0  ...           N  10/15/2014  NaN       NaN   \n",
       "1  10/11/2011       1049.0  ...           N  10/12/2011  NaN       NaN   \n",
       "3  07/20/2011       1705.0  ...           C  09/03/2011  NaN       NaN   \n",
       "6  10/12/2014        413.0  ...           N  11/04/2014  23F     Theft   \n",
       "7  01/14/2013       1516.0  ...           C  02/18/2013  120   Robbery   \n",
       "\n",
       "     x_coord    y_coord   latitude  longtitude                     location  \\\n",
       "0  3130355.0  3130355.0  30.315506  -97.690678  (30.31550566, -97.69067834)   \n",
       "1  3137779.0  3137779.0  30.319818  -97.667024  (30.31981803, -97.66702419)   \n",
       "3  3106719.0  3106719.0  30.266295  -97.766915  (30.26629453, -97.76691542)   \n",
       "6  3115529.0  3115529.0  30.268006  -97.738955  (30.26800598, -97.73895531)   \n",
       "7  3125085.0  3125085.0  30.314675  -97.707407  (30.31467502, -97.70740742)   \n",
       "\n",
       "   year  \n",
       "0  2014  \n",
       "1  2011  \n",
       "3  2011  \n",
       "6  2014  \n",
       "7  2013  \n",
       "\n",
       "[5 rows x 28 columns]"
      ]
     },
     "execution_count": 8,
     "metadata": {},
     "output_type": "execute_result"
    }
   ],
   "source": [
    "print(crimes2009_2016.shape)\n",
    "crimes2009_2016.head()"
   ]
  },
  {
   "cell_type": "markdown",
   "metadata": {},
   "source": [
    "## Read in the resistance data"
   ]
  },
  {
   "cell_type": "code",
   "execution_count": 9,
   "metadata": {},
   "outputs": [],
   "source": [
    "resistance_09 = pd.read_csv(\"https://data.austintexas.gov/api/views/sc8s-w4ka/rows.csv?accessType=DOWNLOAD\").astype(str)\n",
    "resistance_10 = pd.read_csv(\"https://data.austintexas.gov/api/views/q5ym-htjz/rows.csv?accessType=DOWNLOAD\").astype(str)\n",
    "resistance_11 = pd.read_csv(\"https://data.austintexas.gov/api/views/jipa-v8m5/rows.csv?accessType=DOWNLOAD\").astype(str)\n",
    "resistance_12 = pd.read_csv(\"https://data.austintexas.gov/api/views/bx9w-y5sd/rows.csv?accessType=DOWNLOAD\").astype(str)\n",
    "resistance_13 = pd.read_csv(\"https://data.austintexas.gov/api/views/qxx9-6iwk/rows.csv?accessType=DOWNLOAD\").astype(str)\n",
    "resistance_14 = pd.read_csv(\"https://data.austintexas.gov/api/views/vv43-e55n/rows.csv?accessType=DOWNLOAD\").astype(str)\n",
    "resistance_15 = pd.read_csv(\"https://data.austintexas.gov/api/views/iydp-s2cf/rows.csv?accessType=DOWNLOAD\").astype(str)\n",
    "resistance_16 = pd.read_csv(\"https://data.austintexas.gov/api/views/h8jq-pcz3/rows.csv?accessType=DOWNLOAD\").astype(str)"
   ]
  },
  {
   "cell_type": "markdown",
   "metadata": {},
   "source": [
    "Many of these datasets have different colnames - here, we standardize them so that we can combine them"
   ]
  },
  {
   "cell_type": "code",
   "execution_count": 10,
   "metadata": {},
   "outputs": [],
   "source": [
    "columns_resistance = ['rin', 'prim_key', 'date_occ', 'time_occ', 'address', 'area_command', 'nature_of_contact', 'reason_desc', 'r2r_level', 'master_sub_id', 'sub_sex']\n",
    "columns2_resistance = ['sub_race', 'sub_ethn', 'sub_cond_desc', 'sub_res', 'weapon_1', 'weapon_2', 'weapon_3', 'weapon_4', 'weapon_5', 'num_shots', 'sub_eff', 'eff_on_officer']\n",
    "columns3_resistance = ['off_org_desc', 'off_comm_date', 'off_years_service', 'x_coord', 'y_coord', 'council_district']\n",
    "columns_resistance += columns2_resistance + columns3_resistance\n",
    "resistance_09.columns = columns_resistance\n",
    "resistance_10.columns = columns_resistance\n",
    "resistance_11.columns = columns_resistance\n",
    "resistance_12.columns = columns_resistance\n",
    "resistance_13.columns = columns_resistance\n",
    "resistance_14.columns = columns_resistance\n",
    "resistance_15.columns = columns_resistance\n",
    "resistance_16.columns = columns_resistance"
   ]
  },
  {
   "cell_type": "markdown",
   "metadata": {},
   "source": [
    "Combine the data for all years"
   ]
  },
  {
   "cell_type": "code",
   "execution_count": 11,
   "metadata": {},
   "outputs": [],
   "source": [
    "resistances = [resistance_09,resistance_10,resistance_11,resistance_12, resistance_13,resistance_14,resistance_15, resistance_16]\n",
    "resistance = pd.concat(resistances,sort=False)"
   ]
  },
  {
   "cell_type": "code",
   "execution_count": 12,
   "metadata": {},
   "outputs": [
    {
     "name": "stdout",
     "output_type": "stream",
     "text": [
      "(23218, 29)\n"
     ]
    },
    {
     "data": {
      "text/html": [
       "<div>\n",
       "<style scoped>\n",
       "    .dataframe tbody tr th:only-of-type {\n",
       "        vertical-align: middle;\n",
       "    }\n",
       "\n",
       "    .dataframe tbody tr th {\n",
       "        vertical-align: top;\n",
       "    }\n",
       "\n",
       "    .dataframe thead th {\n",
       "        text-align: right;\n",
       "    }\n",
       "</style>\n",
       "<table border=\"1\" class=\"dataframe\">\n",
       "  <thead>\n",
       "    <tr style=\"text-align: right;\">\n",
       "      <th></th>\n",
       "      <th>rin</th>\n",
       "      <th>prim_key</th>\n",
       "      <th>date_occ</th>\n",
       "      <th>time_occ</th>\n",
       "      <th>address</th>\n",
       "      <th>area_command</th>\n",
       "      <th>nature_of_contact</th>\n",
       "      <th>reason_desc</th>\n",
       "      <th>r2r_level</th>\n",
       "      <th>master_sub_id</th>\n",
       "      <th>...</th>\n",
       "      <th>weapon_5</th>\n",
       "      <th>num_shots</th>\n",
       "      <th>sub_eff</th>\n",
       "      <th>eff_on_officer</th>\n",
       "      <th>off_org_desc</th>\n",
       "      <th>off_comm_date</th>\n",
       "      <th>off_years_service</th>\n",
       "      <th>x_coord</th>\n",
       "      <th>y_coord</th>\n",
       "      <th>council_district</th>\n",
       "    </tr>\n",
       "  </thead>\n",
       "  <tbody>\n",
       "    <tr>\n",
       "      <th>0</th>\n",
       "      <td>19654</td>\n",
       "      <td>200910720</td>\n",
       "      <td>01/01/2009 12:00:00 AM</td>\n",
       "      <td></td>\n",
       "      <td>200 W 4TH ST</td>\n",
       "      <td>GE</td>\n",
       "      <td>VIEWED OFFENSE</td>\n",
       "      <td>NECESSARY TO EFFECT ARREST / DETENTION</td>\n",
       "      <td>3.0</td>\n",
       "      <td>305859998: 200910720</td>\n",
       "      <td>...</td>\n",
       "      <td>nan</td>\n",
       "      <td>nan</td>\n",
       "      <td>NO COMPLAINT OF INJURY/PAIN</td>\n",
       "      <td>NO COMPLAINT OF INJURY/PAIN</td>\n",
       "      <td>GEORGE 400 REG I PATROL</td>\n",
       "      <td>01/08/1993 12:00:00 AM</td>\n",
       "      <td>16</td>\n",
       "      <td>3113640</td>\n",
       "      <td>10070272</td>\n",
       "      <td>9.0</td>\n",
       "    </tr>\n",
       "    <tr>\n",
       "      <th>1</th>\n",
       "      <td>19656</td>\n",
       "      <td>200910883</td>\n",
       "      <td>01/01/2009 12:00:00 AM</td>\n",
       "      <td>0330</td>\n",
       "      <td>6309 BURNS ST</td>\n",
       "      <td>ID</td>\n",
       "      <td>DISPATCHED CALL</td>\n",
       "      <td>NECESSARY TO DEFEND REPORTING OFFICER</td>\n",
       "      <td>2.0</td>\n",
       "      <td>66128268: 200910883</td>\n",
       "      <td>...</td>\n",
       "      <td>nan</td>\n",
       "      <td>1.0</td>\n",
       "      <td>MINOR INJURY</td>\n",
       "      <td>NO COMPLAINT OF INJURY/PAIN</td>\n",
       "      <td>BAKER 700 REG I PATROL</td>\n",
       "      <td>04/27/2007 12:00:00 AM</td>\n",
       "      <td>2</td>\n",
       "      <td>3120652</td>\n",
       "      <td>10093724</td>\n",
       "      <td>4.0</td>\n",
       "    </tr>\n",
       "    <tr>\n",
       "      <th>2</th>\n",
       "      <td>19734</td>\n",
       "      <td>200910883</td>\n",
       "      <td>01/01/2009 12:00:00 AM</td>\n",
       "      <td></td>\n",
       "      <td>6309 BURNS ST</td>\n",
       "      <td>ID</td>\n",
       "      <td>DISPATCHED CALL</td>\n",
       "      <td>NECESSARY TO EFFECT ARREST / DETENTION</td>\n",
       "      <td>1.0</td>\n",
       "      <td>66128268: 200910883</td>\n",
       "      <td>...</td>\n",
       "      <td>nan</td>\n",
       "      <td>0.0</td>\n",
       "      <td>MINOR INJURY</td>\n",
       "      <td>NO COMPLAINT OF INJURY/PAIN</td>\n",
       "      <td>BAKER 700 REG I PATROL</td>\n",
       "      <td>06/20/2008 12:00:00 AM</td>\n",
       "      <td>1</td>\n",
       "      <td>3120652</td>\n",
       "      <td>10093724</td>\n",
       "      <td>4.0</td>\n",
       "    </tr>\n",
       "    <tr>\n",
       "      <th>3</th>\n",
       "      <td>19735</td>\n",
       "      <td>200911936</td>\n",
       "      <td>01/01/2009 12:00:00 AM</td>\n",
       "      <td>1640</td>\n",
       "      <td>6710 ARROYO SECO</td>\n",
       "      <td>ID</td>\n",
       "      <td>DISPATCHED CALL</td>\n",
       "      <td>OTHER (DOCUMENT IN SUPPLEMENT)</td>\n",
       "      <td>3.0</td>\n",
       "      <td>219233449: 200911936</td>\n",
       "      <td>...</td>\n",
       "      <td>nan</td>\n",
       "      <td>nan</td>\n",
       "      <td>NO COMPLAINT OF INJURY/PAIN</td>\n",
       "      <td>NO COMPLAINT OF INJURY/PAIN</td>\n",
       "      <td>BAKER 300 REG I PATROL</td>\n",
       "      <td>06/18/2004 12:00:00 AM</td>\n",
       "      <td>5</td>\n",
       "      <td>3117560</td>\n",
       "      <td>10097233</td>\n",
       "      <td>7.0</td>\n",
       "    </tr>\n",
       "    <tr>\n",
       "      <th>4</th>\n",
       "      <td>19736</td>\n",
       "      <td>200911936</td>\n",
       "      <td>01/01/2009 12:00:00 AM</td>\n",
       "      <td>1635</td>\n",
       "      <td>6710 ARROYO SECO</td>\n",
       "      <td>ID</td>\n",
       "      <td>DISPATCHED CALL</td>\n",
       "      <td>OTHER (DOCUMENT IN SUPPLEMENT)</td>\n",
       "      <td>3.0</td>\n",
       "      <td>314316133: 200911936</td>\n",
       "      <td>...</td>\n",
       "      <td>nan</td>\n",
       "      <td>nan</td>\n",
       "      <td>NO COMPLAINT OF INJURY/PAIN</td>\n",
       "      <td>NO COMPLAINT OF INJURY/PAIN</td>\n",
       "      <td>BAKER 300 REG I PATROL</td>\n",
       "      <td>01/04/2008 12:00:00 AM</td>\n",
       "      <td>1</td>\n",
       "      <td>3117560</td>\n",
       "      <td>10097233</td>\n",
       "      <td>7.0</td>\n",
       "    </tr>\n",
       "  </tbody>\n",
       "</table>\n",
       "<p>5 rows × 29 columns</p>\n",
       "</div>"
      ],
      "text/plain": [
       "     rin   prim_key                date_occ time_occ           address  \\\n",
       "0  19654  200910720  01/01/2009 12:00:00 AM               200 W 4TH ST   \n",
       "1  19656  200910883  01/01/2009 12:00:00 AM     0330     6309 BURNS ST   \n",
       "2  19734  200910883  01/01/2009 12:00:00 AM              6309 BURNS ST   \n",
       "3  19735  200911936  01/01/2009 12:00:00 AM     1640  6710 ARROYO SECO   \n",
       "4  19736  200911936  01/01/2009 12:00:00 AM     1635  6710 ARROYO SECO   \n",
       "\n",
       "  area_command nature_of_contact                             reason_desc  \\\n",
       "0           GE    VIEWED OFFENSE  NECESSARY TO EFFECT ARREST / DETENTION   \n",
       "1           ID   DISPATCHED CALL   NECESSARY TO DEFEND REPORTING OFFICER   \n",
       "2           ID   DISPATCHED CALL  NECESSARY TO EFFECT ARREST / DETENTION   \n",
       "3           ID   DISPATCHED CALL          OTHER (DOCUMENT IN SUPPLEMENT)   \n",
       "4           ID   DISPATCHED CALL          OTHER (DOCUMENT IN SUPPLEMENT)   \n",
       "\n",
       "  r2r_level         master_sub_id       ...        weapon_5 num_shots  \\\n",
       "0       3.0  305859998: 200910720       ...             nan       nan   \n",
       "1       2.0   66128268: 200910883       ...             nan       1.0   \n",
       "2       1.0   66128268: 200910883       ...             nan       0.0   \n",
       "3       3.0  219233449: 200911936       ...             nan       nan   \n",
       "4       3.0  314316133: 200911936       ...             nan       nan   \n",
       "\n",
       "                       sub_eff               eff_on_officer  \\\n",
       "0  NO COMPLAINT OF INJURY/PAIN  NO COMPLAINT OF INJURY/PAIN   \n",
       "1                 MINOR INJURY  NO COMPLAINT OF INJURY/PAIN   \n",
       "2                 MINOR INJURY  NO COMPLAINT OF INJURY/PAIN   \n",
       "3  NO COMPLAINT OF INJURY/PAIN  NO COMPLAINT OF INJURY/PAIN   \n",
       "4  NO COMPLAINT OF INJURY/PAIN  NO COMPLAINT OF INJURY/PAIN   \n",
       "\n",
       "              off_org_desc           off_comm_date off_years_service  x_coord  \\\n",
       "0  GEORGE 400 REG I PATROL  01/08/1993 12:00:00 AM                16  3113640   \n",
       "1   BAKER 700 REG I PATROL  04/27/2007 12:00:00 AM                 2  3120652   \n",
       "2   BAKER 700 REG I PATROL  06/20/2008 12:00:00 AM                 1  3120652   \n",
       "3   BAKER 300 REG I PATROL  06/18/2004 12:00:00 AM                 5  3117560   \n",
       "4   BAKER 300 REG I PATROL  01/04/2008 12:00:00 AM                 1  3117560   \n",
       "\n",
       "    y_coord council_district  \n",
       "0  10070272              9.0  \n",
       "1  10093724              4.0  \n",
       "2  10093724              4.0  \n",
       "3  10097233              7.0  \n",
       "4  10097233              7.0  \n",
       "\n",
       "[5 rows x 29 columns]"
      ]
     },
     "execution_count": 12,
     "metadata": {},
     "output_type": "execute_result"
    }
   ],
   "source": [
    "print(resistance.shape)\n",
    "resistance.head()"
   ]
  },
  {
   "cell_type": "markdown",
   "metadata": {},
   "source": [
    "## Merge the resistance data with the crime data"
   ]
  },
  {
   "cell_type": "markdown",
   "metadata": {},
   "source": [
    "In the resistance data, each primary key (\"prim_key\") represents an incident, and each record is a single officer's report of that incident. This means that there are often multiple records per primary key. In order to merge one-to-one, we want only one record per primary key.\n",
    "\n",
    "First, we should determine which columns are at the report level and which are at the primary key level."
   ]
  },
  {
   "cell_type": "code",
   "execution_count": 35,
   "metadata": {},
   "outputs": [
    {
     "name": "stdout",
     "output_type": "stream",
     "text": [
      "time_occ 5626\n",
      "nature_of_contact 828\n",
      "reason_desc 2100\n",
      "r2r_level 685\n",
      "master_sub_id 1451\n",
      "sub_sex 461\n",
      "sub_race 406\n",
      "sub_ethn 460\n",
      "sub_cond_desc 1120\n",
      "sub_res 2910\n",
      "weapon_1 1989\n",
      "weapon_2 729\n",
      "weapon_3 110\n",
      "weapon_4 9\n",
      "weapon_5 1\n",
      "num_shots 1814\n",
      "sub_eff 2194\n",
      "eff_on_officer 1722\n",
      "off_org_desc 3419\n",
      "off_comm_date 8258\n",
      "off_years_service 7599\n"
     ]
    }
   ],
   "source": [
    "# Count the number of unique primary keys\n",
    "n_prim_key = len(resistance[\"prim_key\"].unique())\n",
    "\n",
    "# For each other column in the resistence dataset, check if the number of unique records in terms of the primary key i\n",
    "for col in resistance.columns[3:]:\n",
    "    n_col = len(resistance.groupby([\"prim_key\", col]))\n",
    "    if n_col != n_prim_key:\n",
    "        diff = n_col-n_prim_key\n",
    "        print(col, diff)"
   ]
  },
  {
   "cell_type": "markdown",
   "metadata": {},
   "source": [
    "\"prim_key\" in the resistance data appears similar to \"inc_number\" in the crime data, but the former only has nine characters. We therefore take the first nine characters of \"inc_number\" and use this to merge with \"prim_key.\"\n",
    "We confirmed (and show below) that this merge does appear to match the correct records."
   ]
  },
  {
   "cell_type": "code",
   "execution_count": null,
   "metadata": {},
   "outputs": [],
   "source": [
    "crimes2009_2016[\"prim_key\"] = crimes2009_2016[\"inc_number\"][0:12]\n",
    "#combined = pd.merge(, how=\"outer\", indicator=True)"
   ]
  },
  {
   "cell_type": "code",
   "execution_count": 33,
   "metadata": {},
   "outputs": [
    {
     "data": {
      "text/plain": [
       "23218"
      ]
     },
     "execution_count": 33,
     "metadata": {},
     "output_type": "execute_result"
    }
   ],
   "source": [
    "col=\"rin\"\n",
    "len(resistance.groupby([\"prim_key\", col]))"
   ]
  },
  {
   "cell_type": "code",
   "execution_count": null,
   "metadata": {},
   "outputs": [],
   "source": []
  }
 ],
 "metadata": {
  "kernelspec": {
   "display_name": "Python 3",
   "language": "python",
   "name": "python3"
  }
 },
 "nbformat": 4,
 "nbformat_minor": 2
}
