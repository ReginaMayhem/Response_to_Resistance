{
 "cells": [
  {
   "cell_type": "code",
   "execution_count": 5,
   "metadata": {},
   "outputs": [
    {
     "name": "stdout",
     "output_type": "stream",
     "text": [
      "['inc_number', 'high_off_desc', 'high_off_code', 'fam_viol', 'occ_date_time', 'occ_date', 'occ_time', 'rep_date', 'rep_time', 'cen_tract', 'clr_status', 'clr_date', 'ucr', 'cat-desc', 'x_coord', 'y_coord', 'latitude', 'longtitude', 'location']\n",
      "19\n"
     ]
    }
   ],
   "source": [
    "import pandas as pd\n",
    "import numpy as np\n",
    "\n",
    "data = pd.read_csv(\"https://data.austintexas.gov/api/views/g3bw-w7hh/rows.csv?accessType=DOWNLOAD\", columns = )\n",
    "resistance = pd.read_csv(\"https://data.austintexas.gov/api/views/iydp-s2cf/rows.csv?accessType=DOWNLOAD\")\n"
   ]
  },
  {
   "cell_type": "code",
   "execution_count": 41,
   "metadata": {},
   "outputs": [
    {
     "name": "stdout",
     "output_type": "stream",
     "text": [
      "['inc_number', 'high_off_desc', 'high_off_code', 'fam_viol', 'occ_date_time', 'occ_date', 'occ_time', 'rep_date_time', 'rep_date', 'rep_time', 'loc_type', 'address', 'zip_code', 'council_district', 'apd_sector', 'apd_district', 'pra', 'cen_tract', 'clr_status', 'clr_date', 'ucr', 'cat_desc', 'x_coord', 'y_coord', 'latitude', 'longtitude', 'location']\n",
      "27\n"
     ]
    }
   ],
   "source": [
    "columns_largeset = ['inc_number', 'high_off_desc', 'high_off_code', 'fam_viol', 'occ_date_time', 'occ_date', 'occ_time', 'rep_date_time', 'rep_date']\n",
    "columns2_largeset = ['rep_time', 'loc_type', 'address', 'zip_code', 'council_district', 'apd_sector', 'apd_district', 'pra', 'cen_tract', 'clr_status', 'clr_date', 'ucr', 'cat_desc', 'x_coord', 'y_coord', 'latitude', 'longtitude', 'location']\n",
    "#columns_largeset below is the simplification of the \"largeset\" column i.e. replacing spaces with underscores\n",
    "columns_largeset += columns2_largeset\n",
    "print(columns_largeset)\n",
    "print(len(columns_largeset))\n",
    "\n",
    "columns_resistance = ['rin', 'prim_key', 'date_occ', 'time_occ', 'loc', 'area_command', 'nature_of_contact', 'reason_desc', 'r2r_level', 'master_sub_id', 'sub_sex']\n",
    "columns2_resistance = ['sub_race', 'sub_ethn', 'sub_cond_desc', 'sub_res', 'weapon_1', 'weapon_2', 'weapon_3', 'weapon_4', 'weapon_5', 'num_shots', 'sub_eff', 'eff_on_officer']\n",
    "columns3_resistance = ['off_org_desc', 'off_comm_date', 'off_years_service', 'x-coord', 'y-coord', 'council_district']\n",
    "columns_resistance += columns2_resistance + columns3_resistance"
   ]
  },
  {
   "cell_type": "code",
   "execution_count": 42,
   "metadata": {},
   "outputs": [
    {
     "name": "stderr",
     "output_type": "stream",
     "text": [
      "C:\\Users\\Adam\\Anaconda3\\lib\\site-packages\\IPython\\core\\interactiveshell.py:2785: DtypeWarning: Columns (16,20,21) have mixed types. Specify dtype option on import or set low_memory=False.\n",
      "  interactivity=interactivity, compiler=compiler, result=result)\n"
     ]
    }
   ],
   "source": [
    "data2004_2018 = pd.read_csv(\"https://data.austintexas.gov/api/views/fdj4-gpfu/rows.csv?accessType=DOWNLOAD\")\n"
   ]
  },
  {
   "cell_type": "code",
   "execution_count": 44,
   "metadata": {},
   "outputs": [],
   "source": [
    "temp = list(data2004_2018['Incident Number'].astype(str))\n",
    "temp = [l[0:4] for l  in temp]\n",
    "data2004_2018['Year']= np.array(temp)\n",
    "data2009_2016 = data2004_2018.loc[data2004_2018['Year'].isin(['2009','2010', '2011', '2012', '2013', '2014', '2015', '2016'])]\n",
    "data2009_2016= data2009_2016.drop(['Year'], axis =1)\n",
    "#Combined \"Large Set\" from years is above; the data with the \"simplified columns\" is below\n",
    "data2009_2016.columns = columns_largeset\n"
   ]
  },
  {
   "cell_type": "code",
   "execution_count": null,
   "metadata": {},
   "outputs": [],
   "source": []
  }
 ],
 "metadata": {
  "kernelspec": {
   "display_name": "Python 3",
   "language": "python",
   "name": "python3"
  },
  "language_info": {
   "codemirror_mode": {
    "name": "ipython",
    "version": 3
   },
   "file_extension": ".py",
   "mimetype": "text/x-python",
   "name": "python",
   "nbconvert_exporter": "python",
   "pygments_lexer": "ipython3",
   "version": "3.6.5"
  }
 },
 "nbformat": 4,
 "nbformat_minor": 2
}
